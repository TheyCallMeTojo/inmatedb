{
 "metadata": {
  "language_info": {
   "codemirror_mode": {
    "name": "ipython",
    "version": 3
   },
   "file_extension": ".py",
   "mimetype": "text/x-python",
   "name": "python",
   "nbconvert_exporter": "python",
   "pygments_lexer": "ipython3",
   "version": "3.8.5"
  },
  "orig_nbformat": 4,
  "kernelspec": {
   "name": "python3",
   "display_name": "Python 3.8.5 64-bit"
  },
  "interpreter": {
   "hash": "06fdfa7b7469485c49b371aba8a07b1fd4aeb0b32c21140fc4f42304c6089e67"
  }
 },
 "nbformat": 4,
 "nbformat_minor": 2,
 "cells": [
  {
   "cell_type": "code",
   "execution_count": 1,
   "metadata": {},
   "outputs": [],
   "source": [
    "import os, sys\n",
    "\n",
    "# Add project files to notebook's path\n",
    "sys.path.append(os.path.realpath(\"..\"))"
   ]
  },
  {
   "cell_type": "code",
   "execution_count": 2,
   "metadata": {},
   "outputs": [
    {
     "output_type": "stream",
     "name": "stdout",
     "text": [
      "The current roster has (230) inmates listed.\n"
     ]
    }
   ],
   "source": [
    "from scraping.roster_parser import RosterParse\n",
    "from scraping.profile_parser import ProfileParse\n",
    "from scraping import scraping_utils as utils\n",
    "\n",
    "\n",
    "roster = RosterParse()\n",
    "print(f\"The current roster has ({roster.roster_length}) inmates listed.\")"
   ]
  },
  {
   "cell_type": "code",
   "execution_count": 3,
   "metadata": {},
   "outputs": [
    {
     "output_type": "stream",
     "name": "stdout",
     "text": [
      "{\n  \"name\": {\n    \"first\": \"TOMMY\",\n    \"last\": \"DEBERRY\"\n  },\n  \"demos\": {\n    \"race\": \"Black or African American\",\n    \"age\": 56,\n    \"gender\": \"Male\"\n  },\n  \"status\": {\n    \"arresting_agency\": \"Cape Girardeau County Sheriff's Office\",\n    \"booking_number\": 202101339,\n    \"booking_date\": \"07-09-2021 - 3:16 pm\",\n    \"booking_date_unformated\": 1625857216.0,\n    \"charges\": [\n      \"565.074-003 - DOMESTIC ASSAULT - 3RD DEGREE\"\n    ],\n    \"bond\": \"$7,500.00\",\n    \"jailed\": true\n  },\n  \"image_filepath\": \"img/202101339.jpg\"\n}\n"
     ]
    }
   ],
   "source": [
    "# Load page 1 of the current roster.\n",
    "roster.load_roster_page(1)\n",
    "\n",
    "# Fetch the tables for each inmate on roster page\n",
    "inmate_tables = roster.get_inmate_tables_on_page()\n",
    "\n",
    "# Get the profile for the first inmate\n",
    "inmate_profile = ProfileParse(inmate_tables[0])\n",
    "\n",
    "# Print out the inmate's details\n",
    "print(inmate_profile.data)"
   ]
  },
  {
   "cell_type": "code",
   "execution_count": 4,
   "metadata": {},
   "outputs": [],
   "source": [
    "# You can get at an inmate's profile details as follows\n",
    "## Each property is lazy loaded/read from a cache\n",
    "\n",
    "name = inmate_profile.name # The name of the inmate\n",
    "status = inmate_profile.status # Details about the inmates arrest\n",
    "demos = inmate_profile.demos # Demographic information on the inmate\n",
    "image_filepath = inmate_profile.image_filepath # The inmate's photo on file\n",
    "data = inmate_profile.data # A collection of each field"
   ]
  },
  {
   "cell_type": "code",
   "execution_count": 5,
   "metadata": {},
   "outputs": [
    {
     "output_type": "stream",
     "name": "stdout",
     "text": [
      "{\n  \"name\": {\n    \"first\": \"ROGER\",\n    \"last\": \"FADLER\"\n  },\n  \"demos\": {\n    \"race\": \"White\",\n    \"age\": 59,\n    \"gender\": \"Male\"\n  },\n  \"status\": {\n    \"arresting_agency\": \"Cape Girardeau County Sheriff's Office\",\n    \"booking_number\": 202101338,\n    \"booking_date\": \"07-09-2021 - 1:17 pm\",\n    \"booking_date_unformated\": 1625850017.0,\n    \"charges\": [\n      \"565.073-003 - DOMESTIC ASSAULT - 2ND DEGREE\",\n      \"565.074-003 - DOMESTIC ASSAULT - 3RD DEGREE\"\n    ],\n    \"bond\": \"$5,000.00\",\n    \"jailed\": true\n  },\n  \"image_filepath\": \"img/202101338.jpg\"\n}\n"
     ]
    }
   ],
   "source": [
    "# If needed, you can load a new inmate's profile into the ProfileParse object\n",
    "## Simply call load_profile with the inmate's table from the roster\n",
    "\n",
    "inmate_profile.load_profile(inmate_tables[1])\n",
    "print(inmate_profile.data)"
   ]
  }
 ]
}