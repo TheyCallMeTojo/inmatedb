{
 "metadata": {
  "language_info": {
   "codemirror_mode": {
    "name": "ipython",
    "version": 3
   },
   "file_extension": ".py",
   "mimetype": "text/x-python",
   "name": "python",
   "nbconvert_exporter": "python",
   "pygments_lexer": "ipython3",
   "version": "3.8.5"
  },
  "orig_nbformat": 4,
  "kernelspec": {
   "name": "python3",
   "display_name": "Python 3.8.5 64-bit"
  },
  "interpreter": {
   "hash": "06fdfa7b7469485c49b371aba8a07b1fd4aeb0b32c21140fc4f42304c6089e67"
  }
 },
 "nbformat": 4,
 "nbformat_minor": 2,
 "cells": [
  {
   "cell_type": "code",
   "execution_count": 1,
   "metadata": {},
   "outputs": [],
   "source": [
    "import os, sys\n",
    "\n",
    "# Add project files to notebook's path\n",
    "sys.path.append(os.path.realpath(\"..\"))"
   ]
  },
  {
   "cell_type": "code",
   "execution_count": 2,
   "metadata": {},
   "outputs": [
    {
     "output_type": "stream",
     "name": "stdout",
     "text": [
      "The current roster has (227) inmates listed.\n"
     ]
    }
   ],
   "source": [
    "from scraping.roster_parser import RosterParse\n",
    "from scraping.profile_parser import ProfileParse\n",
    "\n",
    "\n",
    "roster = RosterParse()\n",
    "print(f\"The current roster has ({roster.roster_length}) inmates listed.\")"
   ]
  },
  {
   "cell_type": "code",
   "execution_count": 3,
   "metadata": {},
   "outputs": [
    {
     "output_type": "stream",
     "name": "stdout",
     "text": [
      "{\n  \"ProfileData\": {\n    \"name\": {\n      \"first\": \"LINDSEY\",\n      \"last\": \"MEDLEY\"\n    },\n    \"demos\": {\n      \"race\": \"White\",\n      \"age\": 37,\n      \"gender\": \"Female\"\n    },\n    \"status\": {\n      \"arresting_agency\": \"Cape Girardeau County Sheriff's Office\",\n      \"booking_number\": 202101335,\n      \"booking_date\": \"07-09-2021 - 11:33 am\",\n      \"charges\": [\n        \"579.015-001 - POSSESSION OF CONTROLLED SUBSTANCE EXCEPT 35 GRAMS OR LESS OF MARIJUANA/SYNTHETIC CANNABINOID\"\n      ],\n      \"bond\": null,\n      \"jailed\": true\n    },\n    \"image_filepath\": \"img/202101335.jpg\"\n  }\n}\n"
     ]
    }
   ],
   "source": [
    "# Load page 1 of the current roster.\n",
    "roster.load_roster_page(1)\n",
    "\n",
    "# Fetch the tables for each inmate on roster page\n",
    "inmate_tables = roster.fetch_inmate_tables_on_page()\n",
    "\n",
    "# Get the profile for the first inmate\n",
    "inmate_profile = ProfileParse(inmate_tables[0])\n",
    "\n",
    "# Print out the inmate's details\n",
    "print(inmate_profile.data)"
   ]
  },
  {
   "cell_type": "code",
   "execution_count": 4,
   "metadata": {},
   "outputs": [],
   "source": [
    "# You can get at an inmate's profile details as follows\n",
    "## Each property is lazy loaded/read from a cache\n",
    "\n",
    "name = inmate_profile.name # The name of the inmate\n",
    "status = inmate_profile.status # Details about the inmates arrest\n",
    "demos = inmate_profile.demos # Demographic information on the inmate\n",
    "image_filepath = inmate_profile.image_filepath # The inmate's photo on file\n",
    "data = inmate_profile.data # A collection of each field"
   ]
  },
  {
   "cell_type": "code",
   "execution_count": 7,
   "metadata": {},
   "outputs": [
    {
     "output_type": "stream",
     "name": "stdout",
     "text": [
      "{\n  \"ProfileData\": {\n    \"name\": {\n      \"first\": \"TONI\",\n      \"last\": \"NEWSOM\"\n    },\n    \"demos\": {\n      \"race\": \"White\",\n      \"age\": 47,\n      \"gender\": \"Female\"\n    },\n    \"status\": {\n      \"arresting_agency\": \"Cape Girardeau County Sheriff's Office\",\n      \"booking_number\": 202101334,\n      \"booking_date\": \"07-09-2021 - 11:09 am\",\n      \"charges\": [\n        \"579.015-001 - POSSESSION OF CONTROLLED SUBSTANCE EXCEPT 35 GRAMS OR LESS OF MARIJUANA/SYNTHETIC CANNABINOID\",\n        \"579.015-001 - POSSESSION OF CONTROLLED SUBSTANCE EXCEPT 35 GRAMS OR LESS OF MARIJUANA/SYNTHETIC CANNABINOID\"\n      ],\n      \"bond\": \"$25,000.00\",\n      \"jailed\": true\n    },\n    \"image_filepath\": \"img/202101334.jpg\"\n  }\n}\n"
     ]
    }
   ],
   "source": [
    "# If needed, you can load a new inmate's profile into the ProfileParse object\n",
    "## Simply call load_profile with the inmate's table from the roster\n",
    "\n",
    "inmate_profile.load_profile(inmate_tables[1])\n",
    "print(inmate_profile.data)"
   ]
  }
 ]
}