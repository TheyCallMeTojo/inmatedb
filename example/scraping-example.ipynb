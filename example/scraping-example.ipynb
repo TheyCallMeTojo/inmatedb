{
 "metadata": {
  "language_info": {
   "codemirror_mode": {
    "name": "ipython",
    "version": 3
   },
   "file_extension": ".py",
   "mimetype": "text/x-python",
   "name": "python",
   "nbconvert_exporter": "python",
   "pygments_lexer": "ipython3",
   "version": "3.8.5"
  },
  "orig_nbformat": 4,
  "kernelspec": {
   "name": "python3",
   "display_name": "Python 3.8.5 64-bit ('Python38')"
  },
  "interpreter": {
   "hash": "06fdfa7b7469485c49b371aba8a07b1fd4aeb0b32c21140fc4f42304c6089e67"
  }
 },
 "nbformat": 4,
 "nbformat_minor": 2,
 "cells": [
  {
   "cell_type": "code",
   "execution_count": 1,
   "metadata": {},
   "outputs": [],
   "source": [
    "import os, sys\n",
    "\n",
    "# Add project files to notebook's path\n",
    "sys.path.append(os.path.realpath(\"..\"))"
   ]
  },
  {
   "cell_type": "code",
   "execution_count": 3,
   "metadata": {},
   "outputs": [
    {
     "output_type": "stream",
     "name": "stdout",
     "text": [
      "The current roster has (228) inmates listed.\n"
     ]
    }
   ],
   "source": [
    "from scraping.roster_parser import RosterParse\n",
    "from scraping.profile_parser import ProfileParse\n",
    "from scraping import scraping_utils as utils\n",
    "\n",
    "\n",
    "roster = RosterParse()\n",
    "print(f\"The current roster has ({roster.roster_size}) inmates listed.\")"
   ]
  },
  {
   "cell_type": "code",
   "execution_count": 4,
   "metadata": {},
   "outputs": [
    {
     "output_type": "stream",
     "name": "stdout",
     "text": [
      "{\n  \"name\": {\n    \"first\": \"LYNDSEY\",\n    \"last\": \"DOLLINS\"\n  },\n  \"demos\": {\n    \"race\": \"White\",\n    \"age\": 25,\n    \"gender\": \"Female\"\n  },\n  \"status\": {\n    \"arresting_agency\": \"Cape Girardeau Police Department\",\n    \"booking_number\": 202101350,\n    \"booking_date\": \"07-11-2021 - 2:29 pm\",\n    \"booking_date_unformated\": 1626026429.0,\n    \"charges\": [\n      \"579.015-001 - POSSESSION OF CONTROLLED SUBSTANCE EXCEPT 35 GRAMS OR LESS OF MARIJUANA/SYNTHETIC CANNABINOID\",\n      \"579.015-001 - POSSESSION OF CONTROLLED SUBSTANCE EXCEPT 35 GRAMS OR LESS OF MARIJUANA/SYNTHETIC CANNABINOID\",\n      \"579.074-001 - UNLAWFUL POSSESSION OF DRUG PARAPHERNALIA - AMPHETAMINE OR METHAMPHETAMIN\"\n    ],\n    \"bond\": \"$15,000.00\",\n    \"jailed\": true\n  },\n  \"image_filepath\": \"data/img/202101350.jpg\"\n}\n"
     ]
    }
   ],
   "source": [
    "# Get a profile url\n",
    "profile_url = roster.profile_urls[0]\n",
    "\n",
    "# Request profile pages\n",
    "profile = ProfileParse()\n",
    "requests = profile.request_profile_pages([profile_url])\n",
    "\n",
    "# Parse the profile of the first inmate\n",
    "response = next(requests)\n",
    "profile.parse_profile(response.content)\n",
    "\n",
    "# Print out the inmate's details\n",
    "print(profile.data)"
   ]
  },
  {
   "cell_type": "code",
   "execution_count": 5,
   "metadata": {},
   "outputs": [],
   "source": [
    "# You can get at an inmate's profile details as follows\n",
    "## Each property is lazy loaded/read from a cache\n",
    "\n",
    "name = profile.name # The name of the inmate\n",
    "status = profile.status # Details about the inmates arrest\n",
    "demos = profile.demos # Demographic information on the inmate\n",
    "image_filepath = profile.image_filepath # The inmate's photo on file\n",
    "data = profile.data # A collection of each field"
   ]
  }
 ]
}