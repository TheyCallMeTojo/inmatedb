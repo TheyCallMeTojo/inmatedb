{
 "metadata": {
  "language_info": {
   "codemirror_mode": {
    "name": "ipython",
    "version": 3
   },
   "file_extension": ".py",
   "mimetype": "text/x-python",
   "name": "python",
   "nbconvert_exporter": "python",
   "pygments_lexer": "ipython3",
   "version": "3.8.5"
  },
  "orig_nbformat": 4,
  "kernelspec": {
   "name": "python3",
   "display_name": "Python 3.8.5 64-bit ('Python38')"
  },
  "interpreter": {
   "hash": "06fdfa7b7469485c49b371aba8a07b1fd4aeb0b32c21140fc4f42304c6089e67"
  }
 },
 "nbformat": 4,
 "nbformat_minor": 2,
 "cells": [
  {
   "cell_type": "code",
   "execution_count": 1,
   "metadata": {},
   "outputs": [],
   "source": [
    "import os, sys\n",
    "\n",
    "# Add project files to notebook's path\n",
    "sys.path.append(os.path.realpath(\"..\"))"
   ]
  },
  {
   "cell_type": "code",
   "execution_count": 2,
   "metadata": {},
   "outputs": [
    {
     "output_type": "stream",
     "name": "stdout",
     "text": [
      "10\n",
      "C:\\Users\\brand\\AppData\\Local\\Programs\\Python\\Python38\\lib\\site-packages\\gevent\\hub.py:161: UserWarning: libuv only supports millisecond timer resolution; all times less will be set to 1 ms\n",
      "  with loop.timer(seconds, ref=ref) as t:\n"
     ]
    }
   ],
   "source": [
    "from scraping.roster_parser import RosterParse\n",
    "from scraping.profile_parser import ProfileParse\n",
    "\n",
    "from persistence.inmate_dao import InmateDAO, bundle_profile_data\n",
    "from persistence.data_models import *\n",
    "\n",
    "\n",
    "dao = InmateDAO(\"data/example_inmatedb.json\")\n",
    "members = dao.get_all_members()\n",
    "print(len(members))"
   ]
  },
  {
   "cell_type": "code",
   "execution_count": 3,
   "metadata": {},
   "outputs": [
    {
     "output_type": "stream",
     "name": "stdout",
     "text": [
      "Before scraping: 10\n",
      "After scraping: 13\n"
     ]
    }
   ],
   "source": [
    "from scraping.roster_parser import RosterParse\n",
    "from scraping.profile_parser import ProfileParse\n",
    "\n",
    "from persistence.inmate_dao import InmateDAO, bundle_profile_data\n",
    "from persistence.data_models import *\n",
    "\n",
    "roster = RosterParse()\n",
    "profile = ProfileParse()\n",
    "\n",
    "members = dao.get_all_members()\n",
    "print(\"Before scraping:\", len(members))\n",
    "\n",
    "profile_urls = roster.profile_urls[:10]\n",
    "profile_reqs = profile.request_profile_pages(profile_urls)\n",
    "\n",
    "for response in profile_reqs:\n",
    "    if response is None:\n",
    "        continue\n",
    "\n",
    "    profile.parse_profile(response.content)\n",
    "    dao.put_member(profile.data)\n",
    "\n",
    "members = dao.get_all_members()\n",
    "dao.db.close()\n",
    "print(\"After scraping:\", len(members))"
   ]
  },
  {
   "cell_type": "code",
   "execution_count": 4,
   "metadata": {},
   "outputs": [
    {
     "output_type": "stream",
     "name": "stdout",
     "text": [
      "name: KALEB BERKBIGLER\nage: 27\nbk number: 202101331\n\nname: NAGLASPER MCCLINTON\nage: 39\nbk number: 202101333\n\nname: TONI NEWSOM\nage: 47\nbk number: 202101334\n\n"
     ]
    }
   ],
   "source": [
    "for member in members[:3]:\n",
    "    print(f\"name: {member.name.first} {member.name.last}\")\n",
    "    print(f\"age: {member.demos.age}\")\n",
    "    print(f\"bk number: {member.status.booking_number}\")\n",
    "    print()"
   ]
  },
  {
   "cell_type": "code",
   "execution_count": 5,
   "metadata": {},
   "outputs": [
    {
     "output_type": "stream",
     "name": "stdout",
     "text": [
      "{\n  \"name\": {\n    \"first\": \"KALEB\",\n    \"last\": \"BERKBIGLER\"\n  },\n  \"demos\": {\n    \"race\": \"White\",\n    \"age\": 27,\n    \"gender\": \"Male\"\n  },\n  \"status\": {\n    \"arresting_agency\": \"Cape Girardeau County Sheriff's Office\",\n    \"booking_number\": 202101331,\n    \"booking_date\": \"07-08-2021 - 11:41 pm\",\n    \"booking_date_unformated\": 1625799641.0,\n    \"charges\": [\n      \"569.100-001 - PROPERTY DAMAGE 1ST DEGREE\",\n      \"575.150-002 - RESISTING ARREST/DETENTION/STOP BY FLEEING - CREATING A SUBSTANTIAL RISK OF SERIOUS INJURY/DEATH TO ANY PERSON\",\n      \"565.090-003 - HARASSMENT - 1ST DEGREE\",\n      \"565.091-001 - HARASSMENT - 2ND DEGREE\",\n      \"575.150-003 - RESISTING/INTERFERING WITH ARREST, DETENTION OR STOP\"\n    ],\n    \"bond\": \"$7,500.00\",\n    \"jailed\": true\n  },\n  \"image_filepath\": \"data/img/202101331.jpg\"\n}\n"
     ]
    }
   ],
   "source": [
    "print(members[0])"
   ]
  }
 ]
}