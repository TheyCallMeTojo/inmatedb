{
 "metadata": {
  "language_info": {
   "codemirror_mode": {
    "name": "ipython",
    "version": 3
   },
   "file_extension": ".py",
   "mimetype": "text/x-python",
   "name": "python",
   "nbconvert_exporter": "python",
   "pygments_lexer": "ipython3",
   "version": "3.8.5"
  },
  "orig_nbformat": 4,
  "kernelspec": {
   "name": "python3",
   "display_name": "Python 3.8.5 64-bit"
  },
  "interpreter": {
   "hash": "06fdfa7b7469485c49b371aba8a07b1fd4aeb0b32c21140fc4f42304c6089e67"
  }
 },
 "nbformat": 4,
 "nbformat_minor": 2,
 "cells": [
  {
   "cell_type": "code",
   "execution_count": 1,
   "metadata": {},
   "outputs": [],
   "source": [
    "import os, sys\n",
    "\n",
    "# Add project files to notebook's path\n",
    "sys.path.append(os.path.realpath(\"..\"))"
   ]
  },
  {
   "cell_type": "code",
   "execution_count": 2,
   "metadata": {},
   "outputs": [
    {
     "output_type": "stream",
     "name": "stdout",
     "text": [
      "Before scraping page 1: 0\n",
      "After scraping page 1: 10\n"
     ]
    }
   ],
   "source": [
    "from scraping.roster_parser import RosterParse\n",
    "from scraping.profile_parser import ProfileParse\n",
    "\n",
    "from persistence.inmate_dao import InmateDAO, bundle_profile_data\n",
    "from persistence.data_models import *\n",
    "\n",
    "roster = RosterParse()\n",
    "profile = ProfileParse()\n",
    "dao = InmateDAO(\"example_inmatedb.json\")\n",
    "\n",
    "members = dao.get_all_members()\n",
    "print(\"Before scraping page 1:\", len(members))\n",
    "\n",
    "roster.load_roster_page(1)\n",
    "for inmate in roster.get_inmate_tables_on_page():\n",
    "    profile.load_profile(inmate)\n",
    "    dao.put_member(profile.data)\n",
    "\n",
    "members = dao.get_all_members()\n",
    "dao.db.close()\n",
    "print(\"After scraping page 1:\", len(members))"
   ]
  },
  {
   "cell_type": "code",
   "execution_count": 3,
   "metadata": {},
   "outputs": [
    {
     "output_type": "stream",
     "name": "stdout",
     "text": [
      "name: MARQUELIS ANDREWS\nage: 24\nbk number: 202101327\n\nname: JACOB MCCONNELL\nage: 27\nbk number: 202101329\n\nname: KALEB BERKBIGLER\nage: 27\nbk number: 202101331\n\n"
     ]
    }
   ],
   "source": [
    "for member in members[:3]:\n",
    "    print(f\"name: {member.name.first} {member.name.last}\")\n",
    "    print(f\"age: {member.demos.age}\")\n",
    "    print(f\"bk number: {member.status.booking_number}\")\n",
    "    print()"
   ]
  },
  {
   "cell_type": "code",
   "execution_count": 4,
   "metadata": {},
   "outputs": [
    {
     "output_type": "stream",
     "name": "stdout",
     "text": [
      "{\n  \"name\": {\n    \"first\": \"MARQUELIS\",\n    \"last\": \"ANDREWS\"\n  },\n  \"demos\": {\n    \"race\": \"Black or African American\",\n    \"age\": 24,\n    \"gender\": \"Male\"\n  },\n  \"status\": {\n    \"arresting_agency\": \"Cape Girardeau County Sheriff's Office\",\n    \"booking_number\": 202101327,\n    \"booking_date\": \"07-08-2021 - 3:42 pm\",\n    \"booking_date_unformated\": 1625770842.0,\n    \"charges\": [\n      \"565.052-001 - ASSAULT - 2ND DEGREE\",\n      \"565.052-001 - ASSAULT - 2ND DEGREE\",\n      \"565.052-001 - ASSAULT - 2ND DEGREE\",\n      \"565.052-001 - ASSAULT - 2ND DEGREE\",\n      \"565.050-001 - ASSAULT 1ST DEGREE OR ATTEMPT - SERIOUS PHYSICAL INJURY OR SPECIAL VICTIM\",\n      \"571.030-010 - UNLAWFUL USE OF WEAPON - SUBSECTION 4 - EXHIBITING\",\n      \"571.070 - UNLAWFUL POSSESSION OF A FIREARM\",\n      \"571.015 - ARMED CRIMINAL ACTION\",\n      \"571.015 - ARMED CRIMINAL ACTION\",\n      \"571.015 - ARMED CRIMINAL ACTION\",\n      \"571.015 - ARMED CRIMINAL ACTION\",\n      \"571.015 - ARMED CRIMINAL ACTION\"\n    ],\n    \"bond\": null,\n    \"jailed\": true\n  },\n  \"image_filepath\": \"img/202101327.jpg\"\n}\n"
     ]
    }
   ],
   "source": [
    "print(members[0])"
   ]
  }
 ]
}